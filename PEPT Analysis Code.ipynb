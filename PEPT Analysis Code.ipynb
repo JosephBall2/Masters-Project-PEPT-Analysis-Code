{
 "cells": [
  {
   "cell_type": "code",
   "execution_count": null,
   "id": "9d236fdb-5c52-4ffa-b0fa-dd31ed669f41",
   "metadata": {},
   "outputs": [],
   "source": [
    "import pept\n",
    "import numpy as np\n",
    "from pept.plots import PlotlyGrapher, PlotlyGrapher2D\n",
    "from pept.tracking import *\n",
    "import matplotlib.pyplot as plt\n",
    "import matplotlib as mpl\n",
    "import plotly\n",
    "import plotly.express as px\n",
    "import plotly.io as pio\n",
    "from mpl_toolkits.mplot3d import Axes3D"
   ]
  },
  {
   "cell_type": "code",
   "execution_count": null,
   "id": "36726aed-8cd2-49c8-a9e1-f9eba6944b2c",
   "metadata": {
    "scrolled": true
   },
   "outputs": [],
   "source": [
    "# Initialise data from a file and set sample size and overlap\n",
    "filepath = \".da01\" # use da* to load multiple\n",
    "max_tracers = 1\n",
    "\n",
    "lors = pept.scanners.adac_forte(\n",
    "    filepath,\n",
    "    sample_size = 200 * max_tracers,\n",
    "    overlap = 150 * max_tracers,\n",
    ")\n",
    "\n",
    "# Select only the first 1000 samples of LoRs for testing\n",
    "#lors = lors[:1000]\n",
    "\n",
    "# Create PEPT-ML processing pipeline\n",
    "pipeline = pept.Pipeline([\n",
    "    OptimizeWindow(200, overlap = 0.5) + Debug(1),\n",
    "\n",
    "    # First pass of clustering\n",
    "    Cutpoints(max_distance = 0.2),\n",
    "    HDBSCAN(true_fraction = 0.15, max_tracers = max_tracers),\n",
    "    SplitLabels() + Centroids(cluster_size = True, error = True),\n",
    "\n",
    "    # Remove erroneous points\n",
    "    Condition(\"cluster_size > 30, error < 20\"),\n",
    "\n",
    "    # Second pass of clustering\n",
    "    Stack(sample_size = 30 * max_tracers, overlap = 30 * max_tracers - 1),\n",
    "    HDBSCAN(true_fraction = 0.6, max_tracers = max_tracers),\n",
    "    SplitLabels() + Centroids(),\n",
    "\n",
    "    # Remove sparse points in time\n",
    "    OutOfViewFilter(200.),\n",
    "\n",
    "    # Trajectory separation\n",
    "    Segregate(window = 20 * max_tracers, cut_distance = 10),\n",
    "\n",
    "    # Velocity computation\n",
    "    Velocity(11),\n",
    "    Velocity(11, absolute = True),\n",
    "\n",
    "    # Cutoff points outside this region\n",
    "    Condition(\"x > 100, x < 400\"),\n",
    "    Condition(\"y > 150, y < 300\"),\n",
    "\n",
    "    Center(), # Center model\n",
    "\n",
    "    Stack(),\n",
    "])\n",
    "\n",
    "# Process all samples in `lors` in parallel, using `max_workers` threads\n",
    "trajectories = pipeline.fit(lors)\n",
    "\n",
    "# Save as a fast binary; you can load them back with `pept.load(\"path\")`\n",
    "trajectories.save(filepath + \"fullruns.pickle\")\n",
    "\n",
    "# Plot points\n",
    "PlotlyGrapher().add_points(trajectories).show()"
   ]
  },
  {
   "cell_type": "code",
   "execution_count": null,
   "id": "b3517968-228e-43ee-83d0-07425cd2eb48",
   "metadata": {},
   "outputs": [],
   "source": [
    "# load in pickle files\n",
    "data = pept.load(\".pickle\")\n",
    "\n",
    "# Compute Streamlines\n",
    "split_pipe = pept.Pipeline([\n",
    "\n",
    "    Segregate(window = 10, cut_distance = 0.4),  # Appends label column\n",
    "    GroupBy(\"label\"),                           # Splits into samples\n",
    "    Stack(),\n",
    "])\n",
    "\n",
    "streamlines = split_pipe.fit(data) "
   ]
  },
  {
   "cell_type": "code",
   "execution_count": null,
   "id": "c649ae63-0166-4a8e-a7ea-973433d1c377",
   "metadata": {},
   "outputs": [],
   "source": [
    "# plot stream lines\n",
    "fig, ax = plt.subplots()\n",
    "for i in range(len(streamlines)):\n",
    "    if len(streamlines[i]['x']) > 50: # remove streamlines less than 50 points in length\n",
    "        x_stream = streamlines[i]['x']\n",
    "        y_stream = streamlines[i]['y']\n",
    "        ax.plot(x_stream,y_stream, linewidth=0.2)\n",
    "#plt.xlim(130,360)\n",
    "plt.ylim(-20,60)\n",
    "plt.xlabel(\"x (mm)\")\n",
    "plt.ylabel(\"y (mm)\")\n",
    "plt.figure(dpi=500)\n",
    "fig.savefig(\".png\", dpi=500)"
   ]
  }
 ],
 "metadata": {
  "kernelspec": {
   "display_name": "Python 3 (ipykernel)",
   "language": "python",
   "name": "python3"
  },
  "language_info": {
   "codemirror_mode": {
    "name": "ipython",
    "version": 3
   },
   "file_extension": ".py",
   "mimetype": "text/x-python",
   "name": "python",
   "nbconvert_exporter": "python",
   "pygments_lexer": "ipython3",
   "version": "3.12.7"
  }
 },
 "nbformat": 4,
 "nbformat_minor": 5
}
